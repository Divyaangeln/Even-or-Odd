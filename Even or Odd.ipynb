{
 "cells": [
  {
   "cell_type": "markdown",
   "id": "f53fab23",
   "metadata": {},
   "source": [
    "Write a Python program to check if a number entered by the user is even or odd."
   ]
  },
  {
   "cell_type": "code",
   "execution_count": 1,
   "id": "a06ff09b",
   "metadata": {},
   "outputs": [
    {
     "name": "stdout",
     "output_type": "stream",
     "text": [
      "Enter a number: 5\n",
      "5 is Odd.\n"
     ]
    }
   ],
   "source": [
    "number = int(input(\"Enter a number: \"))\n",
    "if number % 2 == 0:\n",
    "    print(f\"{number} is Even.\")\n",
    "else:\n",
    "    print(f\"{number} is Odd.\")"
   ]
  }
 ],
 "metadata": {
  "kernelspec": {
   "display_name": "Python 3 (ipykernel)",
   "language": "python",
   "name": "python3"
  },
  "language_info": {
   "codemirror_mode": {
    "name": "ipython",
    "version": 3
   },
   "file_extension": ".py",
   "mimetype": "text/x-python",
   "name": "python",
   "nbconvert_exporter": "python",
   "pygments_lexer": "ipython3",
   "version": "3.10.9"
  }
 },
 "nbformat": 4,
 "nbformat_minor": 5
}
